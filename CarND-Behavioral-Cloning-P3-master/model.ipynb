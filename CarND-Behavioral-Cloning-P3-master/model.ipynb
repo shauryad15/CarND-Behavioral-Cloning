{
 "cells": [
  {
   "cell_type": "code",
   "execution_count": 8,
   "metadata": {},
   "outputs": [],
   "source": [
    "import cv2\n",
    "import csv\n",
    "import sklearn\n",
    "import numpy as np\n",
    "\n",
    "lines=[]\n",
    "with open('data/driving_log.csv') as csvfile:\n",
    "    reader = csv.reader(csvfile)\n",
    "    for line in reader:\n",
    "        lines.append(line)\n",
    "        \n",
    "from sklearn.model_selection import train_test_split\n",
    "train_samples, validation_samples = train_test_split(lines, test_size=0.2)\n",
    "\n",
    "def generator(samples, batch_size=32):\n",
    "    while 1:\n",
    "        shuffle(samples)\n",
    "        for batch in range(1, len(lines), batch_size):\n",
    "            batch_samples = lines[batch:batch+batch_size]\n",
    "            images=[]\n",
    "            steering=[]\n",
    "            for line in batch_samples:\n",
    "                c_dir_path = line[0].split()\n",
    "                image_path = 'data/' + str(c_dir_path[0])\n",
    "                image=cv2.cvtColor(cv2.imread(image_path),cv2.COLOR_BGR2RGB)\n",
    "                images.append(image)\n",
    "                steer=float(line[3])\n",
    "                steering.append(steer)\n",
    "                images.append(cv2.flip(image,1))\n",
    "                steering.append(steer*-1)\n",
    "                images.append(cv2.add(cv2.multiply(image, np.array([1.5]))), 50.0)\n",
    "                steering.append(steer)\n",
    "\n",
    "                l_dir_path = line[1].split()\n",
    "                image_path = 'data/' + str(l_dir_path[0])\n",
    "                image=cv2.cvtColor(cv2.imread(image_path),cv2.COLOR_BGR2RGB)\n",
    "                images.append(image)\n",
    "                steer = steer + 0.2\n",
    "                steering.append(steer)\n",
    "                images.append(cv2.flip(image,1))\n",
    "                steering.append(steer*-1)\n",
    "                images.append(cv2.add(cv2.multiply(image, np.array([1.5]))), 50.0)\n",
    "                steering.append(steer)\n",
    "\n",
    "                r_dir_path = line[2].split()\n",
    "                image_path = 'data/' + str(r_dir_path[0])\n",
    "                image=cv2.cvtColor(cv2.imread(image_path),cv2.COLOR_BGR2RGB)\n",
    "                images.append(image)\n",
    "                steer = steer - 0.2\n",
    "                steering.append(steer)\n",
    "                images.append(cv2.flip(image,1))\n",
    "                steering.append(steer*-1)\n",
    "                images.append(cv2.add(cv2.multiply(image, np.array([1.5]))), 50.0)\n",
    "                steering.append(steer)\n",
    "\n",
    "            X_train = np.array(images)\n",
    "            y_train = np.array(steering)\n",
    "            print(len(X_train), len(y_train))\n",
    "            yield shuffle(X_train, y_train)    "
   ]
  },
  {
   "cell_type": "code",
   "execution_count": null,
   "metadata": {},
   "outputs": [],
   "source": [
    "Xtrain_generator = generator(train_sample)\n",
    "ytrain_generator = generator(y_train)"
   ]
  },
  {
   "cell_type": "code",
   "execution_count": null,
   "metadata": {},
   "outputs": [],
   "source": [
    "import keras.models import Sequential\n",
    "import keras.layers import Flatten, Dense, Cropping2D\n",
    "\n",
    "model = Sequential()\n",
    "model.add(Cropping2D(cropping=((50,20), (0,0))), input_shape=(3,160,320))\n",
    "model.add(Lambda(lambda x: x/255.0 - 0.5))\n",
    "model.add(Flatten()))\n",
    "model.add(Dense(1))\n",
    "model.compile(loss = 'mse', optimizer = 'adam')\n",
    "model.fit(X_train, y_train, validation_split = 0.2, shuffle = true, nb_epoch=3)\n",
    "\n",
    "model.save('model.h5')"
   ]
  }
 ],
 "metadata": {
  "kernelspec": {
   "display_name": "Python 3",
   "language": "python",
   "name": "python3"
  },
  "language_info": {
   "codemirror_mode": {
    "name": "ipython",
    "version": 3
   },
   "file_extension": ".py",
   "mimetype": "text/x-python",
   "name": "python",
   "nbconvert_exporter": "python",
   "pygments_lexer": "ipython3",
   "version": "3.5.2"
  },
  "widgets": {
   "state": {},
   "version": "1.1.2"
  }
 },
 "nbformat": 4,
 "nbformat_minor": 2
}
